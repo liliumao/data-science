{
 "cells": [
  {
   "cell_type": "code",
   "execution_count": 23,
   "metadata": {
    "collapsed": false
   },
   "outputs": [],
   "source": [
    "import csv\n",
    "from sklearn import tree\n",
    "from sklearn.ensemble import RandomForestClassifier\n",
    "from sklearn import svm\n",
    "from sklearn.naive_bayes import GaussianNB\n",
    "from sklearn import linear_model\n",
    "from sklearn.cross_validation import KFold\n",
    "from sklearn.metrics import f1_score\n",
    "import numpy as np"
   ]
  },
  {
   "cell_type": "code",
   "execution_count": 24,
   "metadata": {
    "collapsed": true
   },
   "outputs": [],
   "source": [
    "with open(\"J.csv\", 'rb') as csvfile:\n",
    "    reader = csv.DictReader(csvfile)\n",
    "    features = []\n",
    "    labels = []\n",
    "    for row in reader:\n",
    "        feature = []\n",
    "        feature.append(float(row['name']))\n",
    "        feature.append(float(row['addr']))\n",
    "        feature.append(float(row['post']))\n",
    "        feature.append(float(row['phone']))\n",
    "        features.append(feature)\n",
    "        labels.append(int(row['label']))"
   ]
  },
  {
   "cell_type": "code",
   "execution_count": 25,
   "metadata": {
    "collapsed": false
   },
   "outputs": [
    {
     "name": "stderr",
     "output_type": "stream",
     "text": [
      "/u/l/i/liliu/codelib/anaconda2/lib/python2.7/site-packages/sklearn/metrics/classification.py:1076: UndefinedMetricWarning: F-score is ill-defined and being set to 0.0 due to no true samples.\n",
      "  'recall', 'true', average, warn_for)\n"
     ]
    },
    {
     "name": "stdout",
     "output_type": "stream",
     "text": [
      "0.1824\n",
      "0.1864\n",
      "0.188\n",
      "0.1864\n",
      "0.1848\n"
     ]
    }
   ],
   "source": [
    "X = np.array(features)\n",
    "y = np.array(labels)\n",
    "kf = KFold(250, n_folds=10)\n",
    "t_same = 0\n",
    "svm_same = 0\n",
    "rf_same = 0\n",
    "nb_same = 0\n",
    "lr_same = 0\n",
    "for train_index, test_index in kf:\n",
    "    X_train, X_test = X[train_index], X[test_index]\n",
    "    y_train, y_test = y[train_index], y[test_index]\n",
    "    \n",
    "    # http://scikit-learn.org/stable/modules/tree.html#tree\n",
    "    t_clf = tree.DecisionTreeClassifier()\n",
    "    t_clf = t_clf.fit(X_train, y_train)\n",
    "    t_y_predict = t_clf.predict(X_test)\n",
    "    t_same += f1_score(y_test, t_y_predict)\n",
    "#     for i in xrange(25):\n",
    "#         if t_y_predict[i] == y_test[i]:\n",
    "#             t_same += 1\n",
    "    \n",
    "    # http://scikit-learn.org/stable/modules/svm.html#svm\n",
    "    svm_clf = svm.SVC()\n",
    "    svm_clf = svm_clf.fit(X_train, y_train)\n",
    "    svm_y_predict = svm_clf.predict(X_test)\n",
    "    svm_same += f1_score(y_test, svm_y_predict)\n",
    "#     for i in xrange(25):\n",
    "#         if svm_y_predict[i] == y_test[i]:\n",
    "#             svm_same += 1\n",
    "    \n",
    "    # http://scikit-learn.org/stable/modules/generated/\n",
    "    # sklearn.ensemble.RandomForestClassifier.html#sklearn.ensemble.RandomForestClassifier\n",
    "    rf_clf = RandomForestClassifier(n_estimators=10, max_depth=3)\n",
    "    rf_clf = rf_clf.fit(X_train, y_train)\n",
    "    rf_y_predict = rf_clf.predict(X_test)\n",
    "    rf_same += f1_score(y_test, rf_y_predict)\n",
    "#     for i in xrange(25):\n",
    "#         if rf_y_predict[i] == y_test[i]:\n",
    "#             rf_same += 1\n",
    "    \n",
    "    # http://scikit-learn.org/stable/modules/naive_bayes.html#naive-bayes\n",
    "    gnb = GaussianNB()\n",
    "    nb_y_predict = gnb.fit(X_train, y_train).predict(X_test)\n",
    "    nb_same += f1_score(y_test, nb_y_predict)\n",
    "#     for i in xrange(25):\n",
    "#         if nb_y_predict[i] == y_test[i]:\n",
    "#             nb_same += 1\n",
    "    \n",
    "    # http://scikit-learn.org/stable/modules/generated/\n",
    "    # sklearn.linear_model.LogisticRegression.html#sklearn.linear_model.LogisticRegression\n",
    "    \n",
    "    # http://scikit-learn.org/stable/modules/generated/\n",
    "    # sklearn.linear_model.SGDClassifier.html#sklearn.linear_model.SGDClassifier\n",
    "    lr_clf = linear_model.SGDClassifier(loss='log')\n",
    "    lr_clf = lr_clf.fit(X_train, y_train)\n",
    "    lr_y_predict = lr_clf.predict(X_test)\n",
    "    lr_same += f1_score(y_test, lr_y_predict)\n",
    "#     for i in xrange(25):\n",
    "#         if lr_y_predict[i] == y_test[i]:\n",
    "#             lr_same += 1\n",
    "            \n",
    "# t_acc = t_same / (float)(250)\n",
    "# svm_acc = svm_same / (float)(250)\n",
    "# rf_acc = rf_same / (float)(250)\n",
    "# nb_acc = nb_same / (float)(250)\n",
    "# lr_acc = lr_same / (float)(250)\n",
    "\n",
    "print t_acc/5\n",
    "print svm_acc/5\n",
    "print rf_acc/5\n",
    "print nb_acc/5\n",
    "print lr_acc/5"
   ]
  },
  {
   "cell_type": "code",
   "execution_count": 28,
   "metadata": {
    "collapsed": false
   },
   "outputs": [
    {
     "name": "stdout",
     "output_type": "stream",
     "text": [
      "[-1 -1 -1 -1 -1 -1 -1 -1 -1 -1 -1 -1 -1 -1 -1 -1 -1 -1 -1 -1 -1 -1 -1 -1 -1]\n",
      "[-1 -1 -1 -1 -1  1 -1 -1 -1 -1 -1 -1 -1 -1 -1 -1 -1 -1 -1 -1 -1 -1 -1 -1 -1]\n",
      "[ 1 -1 -1 -1 -1 -1 -1 -1 -1 -1 -1 -1 -1 -1 -1 -1 -1  1 -1 -1 -1 -1 -1 -1  1]\n",
      "[-1 -1 -1  1  1  1 -1 -1 -1 -1 -1  1 -1  1 -1 -1 -1  1 -1 -1 -1 -1 -1 -1 -1]\n",
      "[-1 -1 -1  1 -1  1 -1 -1 -1 -1 -1 -1 -1 -1 -1 -1  1  1  1  1 -1 -1  1  1  1]\n",
      "[ 1  1  1  1  1  1  1  1  1  1  1  1  1  1  1  1  1  1  1  1  1  1  1 -1  1]\n",
      "[ 1  1  1  1  1  1  1  1 -1  1  1  1  1  1  1  1  1  1  1  1  1  1  1  1  1]\n",
      "[1 1 1 1 1 1 1 1 1 1 1 1 1 1 1 1 1 1 1 1 1 1 1 1 1]\n",
      "[ 1 -1  1  1  1  1  1 -1  1  1  1  1  1  1  1  1  1  1  1  1  1 -1  1 -1  1]\n",
      "[-1  1  1 -1  1  1  1  1  1 -1  1  1  1  1  1  1  1  1  1  1  1  1  1  1  1]\n"
     ]
    }
   ],
   "source": [
    "for train_index, test_index in kf:\n",
    "    X_train, X_test = X[train_index], X[test_index]\n",
    "    y_train, y_test = y[train_index], y[test_index]\n",
    "    \n",
    "    # http://scikit-learn.org/stable/modules/tree.html#tree\n",
    "    t_clf = tree.DecisionTreeClassifier()\n",
    "    t_clf = t_clf.fit(X_train, y_train)\n",
    "    t_y_predict = t_clf.predict(X_test)\n",
    "    t_same += f1_score(y_test, t_y_predict)\n",
    "    print t_y_predict"
   ]
  },
  {
   "cell_type": "code",
   "execution_count": null,
   "metadata": {
    "collapsed": true
   },
   "outputs": [],
   "source": []
  }
 ],
 "metadata": {
  "anaconda-cloud": {},
  "kernelspec": {
   "display_name": "Python [default]",
   "language": "python",
   "name": "python2"
  },
  "language_info": {
   "codemirror_mode": {
    "name": "ipython",
    "version": 2
   },
   "file_extension": ".py",
   "mimetype": "text/x-python",
   "name": "python",
   "nbconvert_exporter": "python",
   "pygments_lexer": "ipython2",
   "version": "2.7.12"
  }
 },
 "nbformat": 4,
 "nbformat_minor": 1
}
