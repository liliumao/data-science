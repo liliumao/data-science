{
 "cells": [
  {
   "cell_type": "code",
   "execution_count": 1,
   "metadata": {
    "collapsed": true
   },
   "outputs": [],
   "source": [
    "import csv\n",
    "from sklearn import tree\n",
    "from sklearn.ensemble import RandomForestClassifier\n",
    "from sklearn import svm\n",
    "from sklearn.naive_bayes import GaussianNB\n",
    "from sklearn import linear_model\n",
    "from sklearn.cross_validation import KFold\n",
    "from sklearn.metrics import f1_score\n",
    "import numpy as np"
   ]
  },
  {
   "cell_type": "code",
   "execution_count": 2,
   "metadata": {
    "collapsed": true
   },
   "outputs": [],
   "source": [
    "with open(\"U.csv\", 'rb') as csvfile:\n",
    "    reader = csv.DictReader(csvfile)\n",
    "    features = []\n",
    "    labels = []\n",
    "    for row in reader:\n",
    "        feature = []\n",
    "        feature.append(float(row['name']))\n",
    "        feature.append(float(row['addr']))\n",
    "        feature.append(float(row['post']))\n",
    "        feature.append(float(row['phone']))\n",
    "        features.append(feature)\n",
    "        labels.append(int(row['label']))"
   ]
  },
  {
   "cell_type": "code",
   "execution_count": 3,
   "metadata": {
    "collapsed": true
   },
   "outputs": [],
   "source": [
    "def unison_shuffled_copies(a, b):\n",
    "    assert len(a) == len(b)\n",
    "    p = np.random.permutation(len(a))\n",
    "    return a[p], b[p]"
   ]
  },
  {
   "cell_type": "code",
   "execution_count": 4,
   "metadata": {
    "collapsed": true
   },
   "outputs": [],
   "source": [
    "X = np.array(features)\n",
    "y = np.array(labels)\n",
    "X, y = unison_shuffled_copies(X, y)\n",
    "\n",
    "t_same = 0\n",
    "svm_same = 0\n",
    "rf_same = 0\n",
    "nb_same = 0\n",
    "lr_same = 0\n",
    "\n",
    "svm_clf = svm.SVC()\n",
    "svm_clf = svm_clf.fit(X, y)"
   ]
  },
  {
   "cell_type": "code",
   "execution_count": 5,
   "metadata": {
    "collapsed": true
   },
   "outputs": [],
   "source": [
    "with open(\"V.csv\", 'rb') as csvfile:\n",
    "    reader = csv.DictReader(csvfile)\n",
    "    features = []\n",
    "    labels = []\n",
    "    for row in reader:\n",
    "        feature = []\n",
    "        feature.append(float(row['name']))\n",
    "        feature.append(float(row['addr']))\n",
    "        feature.append(float(row['post']))\n",
    "        feature.append(float(row['phone']))\n",
    "        features.append(feature)\n",
    "        labels.append(int(row['label']))"
   ]
  },
  {
   "cell_type": "code",
   "execution_count": 7,
   "metadata": {
    "collapsed": false
   },
   "outputs": [
    {
     "name": "stdout",
     "output_type": "stream",
     "text": [
      "[-1 -1 -1 -1 -1 -1 -1 -1 -1 -1 -1 -1 -1 -1 -1 -1 -1 -1 -1 -1 -1 -1 -1 -1 -1\n",
      " -1 -1 -1 -1 -1 -1  1 -1 -1 -1 -1 -1 -1 -1 -1 -1  1 -1 -1 -1 -1 -1 -1 -1 -1\n",
      " -1  1 -1 -1 -1 -1 -1 -1  1 -1  1  1  1  1  1  1  1  1  1  1  1 -1  1  1  1\n",
      " -1  1  1  1  1  1  1  1  1  1  1  1  1  1  1 -1  1  1  1  1  1  1  1  1  1\n",
      "  1  1  1  1  1  1  1  1  1  1 -1  1  1  1  1  1  1  1  1  1  1  1  1  1  1]\n",
      "0.939393939394\n"
     ]
    }
   ],
   "source": [
    "X_t = np.array(features)\n",
    "y_t = np.array(labels)\n",
    "\n",
    "y_predict = svm_clf.predict(X_t)\n",
    "print y_predict\n",
    "print f1_score(y_t, y_predict)"
   ]
  },
  {
   "cell_type": "code",
   "execution_count": null,
   "metadata": {
    "collapsed": true
   },
   "outputs": [],
   "source": []
  }
 ],
 "metadata": {
  "anaconda-cloud": {},
  "kernelspec": {
   "display_name": "Python [default]",
   "language": "python",
   "name": "python2"
  },
  "language_info": {
   "codemirror_mode": {
    "name": "ipython",
    "version": 2
   },
   "file_extension": ".py",
   "mimetype": "text/x-python",
   "name": "python",
   "nbconvert_exporter": "python",
   "pygments_lexer": "ipython2",
   "version": "2.7.12"
  }
 },
 "nbformat": 4,
 "nbformat_minor": 1
}
